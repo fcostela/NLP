{
 "cells": [
  {
   "cell_type": "markdown",
   "metadata": {},
   "source": [
    "### NLP (Natural Language Processing) with Python, by Francisco Costela (April 2020)\n",
    "\n",
    "Script to check whether we can use Python to calculate IA scores and also what can be done using NLP.\n",
    "    \n",
    "<ol>Testing with the Alzheimer's project database. <ol>\n",
    "    There are 4 cognitive status cases (normal, impaired not MCI, MCI, dementia). Will try to predict the cognitive status by using number of words in the descriptions and also applying a NLP approach that examines the vocabulary\n",
    "    \n",
    "    \n",
    "    First, importing all the required libraries and opening the dataset"
   ]
  },
  {
   "cell_type": "code",
   "execution_count": 1,
   "metadata": {},
   "outputs": [],
   "source": [
    "import pandas as pd\n",
    "import matplotlib.pyplot as plt\n",
    "import seaborn as sns\n",
    "import nltk\n",
    "import string\n",
    "#nltk.download('stopwords')\n",
    "from nltk.corpus import stopwords\n",
    "import numpy as np\n",
    "import operator\n",
    "from sklearn.linear_model import LinearRegression, LogisticRegression\n",
    "from sklearn.model_selection import cross_val_score\n",
    "from sklearn.metrics import mean_absolute_error\n",
    "from sklearn.metrics import make_scorer\n",
    "from sklearn.metrics import classification_report\n",
    "from sklearn.feature_extraction.text import CountVectorizer\n",
    "from sklearn.metrics import confusion_matrix\n",
    "from sklearn.ensemble import RandomForestClassifier\n",
    "from sklearn.pipeline import Pipeline\n",
    "from sklearn.model_selection import train_test_split\n",
    "from sklearn.metrics import r2_score\n",
    "from sklearn.multiclass import OneVsRestClassifier\n",
    "from sklearn import metrics\n",
    "from sklearn.feature_extraction.text import TfidfVectorizer\n",
    "from sklearn.naive_bayes import MultinomialNB\n",
    "from sklearn.metrics import roc_curve\n",
    "from sklearn.svm import LinearSVC\n",
    "from sklearn.feature_extraction.text import TfidfTransformer\n",
    "from sklearn.metrics import roc_auc_score\n",
    "from matplotlib import pyplot\n",
    "from tensorflow import keras\n",
    "from tensorflow.keras import layers\n",
    "from tensorflow.keras.utils import to_categorical\n",
    "from tensorflow.keras.models import Sequential\n",
    "from tensorflow.keras.layers import Dense\n",
    "from tensorflow.keras.wrappers.scikit_learn import KerasClassifier\n",
    "from sklearn.model_selection import cross_val_score\n",
    "from sklearn.model_selection import KFold\n",
    "import tensorflow as tf\n",
    "import numpy as np\n",
    "from mord import LogisticAT \n",
    "from sklearn.metrics import accuracy_score\n",
    "from sklearn.preprocessing import StandardScaler"
   ]
  },
  {
   "cell_type": "code",
   "execution_count": 2,
   "metadata": {},
   "outputs": [],
   "source": [
    "messages = pd.read_excel('/Users/FranciscoCostela/Desktop/Alzheimer/AlzheimerNLP.xlsx')"
   ]
  },
  {
   "cell_type": "code",
   "execution_count": 3,
   "metadata": {},
   "outputs": [
    {
     "data": {
      "text/html": [
       "<div>\n",
       "<style scoped>\n",
       "    .dataframe tbody tr th:only-of-type {\n",
       "        vertical-align: middle;\n",
       "    }\n",
       "\n",
       "    .dataframe tbody tr th {\n",
       "        vertical-align: top;\n",
       "    }\n",
       "\n",
       "    .dataframe thead th {\n",
       "        text-align: right;\n",
       "    }\n",
       "</style>\n",
       "<table border=\"1\" class=\"dataframe\">\n",
       "  <thead>\n",
       "    <tr style=\"text-align: right;\">\n",
       "      <th></th>\n",
       "      <th>id</th>\n",
       "      <th>trial</th>\n",
       "      <th>SegmentID</th>\n",
       "      <th>SegmentName</th>\n",
       "      <th>IAScore</th>\n",
       "      <th>Sharedwords</th>\n",
       "      <th>NumberWords</th>\n",
       "      <th>FinalFixedText</th>\n",
       "      <th>status</th>\n",
       "      <th>GlobalCDR</th>\n",
       "      <th>Age</th>\n",
       "      <th>Sex</th>\n",
       "      <th>Education</th>\n",
       "      <th>cog_status</th>\n",
       "      <th>educationLevel</th>\n",
       "      <th>lengthText</th>\n",
       "      <th>female</th>\n",
       "      <th>subj_tag</th>\n",
       "    </tr>\n",
       "  </thead>\n",
       "  <tbody>\n",
       "    <tr>\n",
       "      <th>0</th>\n",
       "      <td>4</td>\n",
       "      <td>1</td>\n",
       "      <td>43</td>\n",
       "      <td>DEEPB_3a</td>\n",
       "      <td>4.00000</td>\n",
       "      <td>47.0</td>\n",
       "      <td>149</td>\n",
       "      <td>This is a scene of sea lions at the edge of th...</td>\n",
       "      <td>Impaired Not MCI</td>\n",
       "      <td>0.5</td>\n",
       "      <td>83</td>\n",
       "      <td>Female</td>\n",
       "      <td>&gt; 16 Years</td>\n",
       "      <td>1</td>\n",
       "      <td>2</td>\n",
       "      <td>800</td>\n",
       "      <td>Female</td>\n",
       "      <td>1</td>\n",
       "    </tr>\n",
       "    <tr>\n",
       "      <th>1</th>\n",
       "      <td>4</td>\n",
       "      <td>2</td>\n",
       "      <td>105</td>\n",
       "      <td>BURY_1b</td>\n",
       "      <td>4.90625</td>\n",
       "      <td>70.0</td>\n",
       "      <td>226</td>\n",
       "      <td>This clip tells quite a bit of story in a shor...</td>\n",
       "      <td>Impaired Not MCI</td>\n",
       "      <td>0.5</td>\n",
       "      <td>83</td>\n",
       "      <td>Female</td>\n",
       "      <td>&gt; 16 Years</td>\n",
       "      <td>1</td>\n",
       "      <td>2</td>\n",
       "      <td>1178</td>\n",
       "      <td>Female</td>\n",
       "      <td>0</td>\n",
       "    </tr>\n",
       "    <tr>\n",
       "      <th>2</th>\n",
       "      <td>4</td>\n",
       "      <td>3</td>\n",
       "      <td>13</td>\n",
       "      <td>CORAL_5b</td>\n",
       "      <td>2.12500</td>\n",
       "      <td>41.0</td>\n",
       "      <td>128</td>\n",
       "      <td>This Seems to be certainly entirely fictional ...</td>\n",
       "      <td>Impaired Not MCI</td>\n",
       "      <td>0.5</td>\n",
       "      <td>83</td>\n",
       "      <td>Female</td>\n",
       "      <td>&gt; 16 Years</td>\n",
       "      <td>1</td>\n",
       "      <td>2</td>\n",
       "      <td>661</td>\n",
       "      <td>Female</td>\n",
       "      <td>0</td>\n",
       "    </tr>\n",
       "    <tr>\n",
       "      <th>3</th>\n",
       "      <td>4</td>\n",
       "      <td>4</td>\n",
       "      <td>73</td>\n",
       "      <td>WINGE_12a</td>\n",
       "      <td>4.00000</td>\n",
       "      <td>35.0</td>\n",
       "      <td>129</td>\n",
       "      <td>This is a clip of some birds on a body of wate...</td>\n",
       "      <td>Impaired Not MCI</td>\n",
       "      <td>0.5</td>\n",
       "      <td>83</td>\n",
       "      <td>Female</td>\n",
       "      <td>&gt; 16 Years</td>\n",
       "      <td>1</td>\n",
       "      <td>2</td>\n",
       "      <td>650</td>\n",
       "      <td>Female</td>\n",
       "      <td>0</td>\n",
       "    </tr>\n",
       "    <tr>\n",
       "      <th>4</th>\n",
       "      <td>4</td>\n",
       "      <td>5</td>\n",
       "      <td>123</td>\n",
       "      <td>FREED_2a</td>\n",
       "      <td>7.15625</td>\n",
       "      <td>38.0</td>\n",
       "      <td>122</td>\n",
       "      <td>Its a picture of a woman walking into looks li...</td>\n",
       "      <td>Impaired Not MCI</td>\n",
       "      <td>0.5</td>\n",
       "      <td>83</td>\n",
       "      <td>Female</td>\n",
       "      <td>&gt; 16 Years</td>\n",
       "      <td>1</td>\n",
       "      <td>2</td>\n",
       "      <td>625</td>\n",
       "      <td>Female</td>\n",
       "      <td>0</td>\n",
       "    </tr>\n",
       "  </tbody>\n",
       "</table>\n",
       "</div>"
      ],
      "text/plain": [
       "   id  trial  SegmentID SegmentName  IAScore  Sharedwords  NumberWords  \\\n",
       "0   4      1         43    DEEPB_3a  4.00000         47.0          149   \n",
       "1   4      2        105     BURY_1b  4.90625         70.0          226   \n",
       "2   4      3         13    CORAL_5b  2.12500         41.0          128   \n",
       "3   4      4         73   WINGE_12a  4.00000         35.0          129   \n",
       "4   4      5        123    FREED_2a  7.15625         38.0          122   \n",
       "\n",
       "                                      FinalFixedText            status  \\\n",
       "0  This is a scene of sea lions at the edge of th...  Impaired Not MCI   \n",
       "1  This clip tells quite a bit of story in a shor...  Impaired Not MCI   \n",
       "2  This Seems to be certainly entirely fictional ...  Impaired Not MCI   \n",
       "3  This is a clip of some birds on a body of wate...  Impaired Not MCI   \n",
       "4  Its a picture of a woman walking into looks li...  Impaired Not MCI   \n",
       "\n",
       "   GlobalCDR  Age     Sex   Education  cog_status  educationLevel  lengthText  \\\n",
       "0        0.5   83  Female  > 16 Years           1               2         800   \n",
       "1        0.5   83  Female  > 16 Years           1               2        1178   \n",
       "2        0.5   83  Female  > 16 Years           1               2         661   \n",
       "3        0.5   83  Female  > 16 Years           1               2         650   \n",
       "4        0.5   83  Female  > 16 Years           1               2         625   \n",
       "\n",
       "   female  subj_tag  \n",
       "0  Female         1  \n",
       "1  Female         0  \n",
       "2  Female         0  \n",
       "3  Female         0  \n",
       "4  Female         0  "
      ]
     },
     "execution_count": 3,
     "metadata": {},
     "output_type": "execute_result"
    }
   ],
   "source": [
    "messages.head()"
   ]
  },
  {
   "cell_type": "code",
   "execution_count": 4,
   "metadata": {},
   "outputs": [
    {
     "data": {
      "text/html": [
       "<div>\n",
       "<style scoped>\n",
       "    .dataframe tbody tr th:only-of-type {\n",
       "        vertical-align: middle;\n",
       "    }\n",
       "\n",
       "    .dataframe tbody tr th {\n",
       "        vertical-align: top;\n",
       "    }\n",
       "\n",
       "    .dataframe thead th {\n",
       "        text-align: right;\n",
       "    }\n",
       "</style>\n",
       "<table border=\"1\" class=\"dataframe\">\n",
       "  <thead>\n",
       "    <tr style=\"text-align: right;\">\n",
       "      <th></th>\n",
       "      <th>id</th>\n",
       "      <th>trial</th>\n",
       "      <th>SegmentID</th>\n",
       "      <th>IAScore</th>\n",
       "      <th>Sharedwords</th>\n",
       "      <th>NumberWords</th>\n",
       "      <th>GlobalCDR</th>\n",
       "      <th>Age</th>\n",
       "      <th>cog_status</th>\n",
       "      <th>educationLevel</th>\n",
       "      <th>lengthText</th>\n",
       "      <th>subj_tag</th>\n",
       "    </tr>\n",
       "  </thead>\n",
       "  <tbody>\n",
       "    <tr>\n",
       "      <th>count</th>\n",
       "      <td>1103.000000</td>\n",
       "      <td>1103.000000</td>\n",
       "      <td>1103.000000</td>\n",
       "      <td>1103.000000</td>\n",
       "      <td>139.000000</td>\n",
       "      <td>1103.000000</td>\n",
       "      <td>1103.000000</td>\n",
       "      <td>1103.000000</td>\n",
       "      <td>1103.000000</td>\n",
       "      <td>1103.000000</td>\n",
       "      <td>1103.000000</td>\n",
       "      <td>1103.000000</td>\n",
       "    </tr>\n",
       "    <tr>\n",
       "      <th>mean</th>\n",
       "      <td>31.669991</td>\n",
       "      <td>10.502267</td>\n",
       "      <td>93.895739</td>\n",
       "      <td>2.671068</td>\n",
       "      <td>20.762590</td>\n",
       "      <td>29.269266</td>\n",
       "      <td>0.421124</td>\n",
       "      <td>81.538531</td>\n",
       "      <td>1.306437</td>\n",
       "      <td>1.340888</td>\n",
       "      <td>342.855848</td>\n",
       "      <td>0.049864</td>\n",
       "    </tr>\n",
       "    <tr>\n",
       "      <th>std</th>\n",
       "      <td>16.230695</td>\n",
       "      <td>5.772120</td>\n",
       "      <td>52.444933</td>\n",
       "      <td>1.903405</td>\n",
       "      <td>9.608709</td>\n",
       "      <td>25.542943</td>\n",
       "      <td>0.325334</td>\n",
       "      <td>6.905383</td>\n",
       "      <td>1.000192</td>\n",
       "      <td>0.739000</td>\n",
       "      <td>262.370784</td>\n",
       "      <td>0.217763</td>\n",
       "    </tr>\n",
       "    <tr>\n",
       "      <th>min</th>\n",
       "      <td>4.000000</td>\n",
       "      <td>1.000000</td>\n",
       "      <td>13.000000</td>\n",
       "      <td>0.000000</td>\n",
       "      <td>4.000000</td>\n",
       "      <td>0.000000</td>\n",
       "      <td>0.000000</td>\n",
       "      <td>66.000000</td>\n",
       "      <td>0.000000</td>\n",
       "      <td>0.000000</td>\n",
       "      <td>10.000000</td>\n",
       "      <td>0.000000</td>\n",
       "    </tr>\n",
       "    <tr>\n",
       "      <th>25%</th>\n",
       "      <td>18.000000</td>\n",
       "      <td>5.000000</td>\n",
       "      <td>43.000000</td>\n",
       "      <td>1.281250</td>\n",
       "      <td>14.000000</td>\n",
       "      <td>13.000000</td>\n",
       "      <td>0.000000</td>\n",
       "      <td>77.000000</td>\n",
       "      <td>1.000000</td>\n",
       "      <td>1.000000</td>\n",
       "      <td>187.000000</td>\n",
       "      <td>0.000000</td>\n",
       "    </tr>\n",
       "    <tr>\n",
       "      <th>50%</th>\n",
       "      <td>32.000000</td>\n",
       "      <td>11.000000</td>\n",
       "      <td>93.000000</td>\n",
       "      <td>2.312500</td>\n",
       "      <td>20.000000</td>\n",
       "      <td>21.000000</td>\n",
       "      <td>0.500000</td>\n",
       "      <td>82.000000</td>\n",
       "      <td>1.000000</td>\n",
       "      <td>2.000000</td>\n",
       "      <td>282.000000</td>\n",
       "      <td>0.000000</td>\n",
       "    </tr>\n",
       "    <tr>\n",
       "      <th>75%</th>\n",
       "      <td>46.000000</td>\n",
       "      <td>15.500000</td>\n",
       "      <td>133.000000</td>\n",
       "      <td>3.687500</td>\n",
       "      <td>26.000000</td>\n",
       "      <td>37.000000</td>\n",
       "      <td>0.500000</td>\n",
       "      <td>87.000000</td>\n",
       "      <td>2.000000</td>\n",
       "      <td>2.000000</td>\n",
       "      <td>416.000000</td>\n",
       "      <td>0.000000</td>\n",
       "    </tr>\n",
       "    <tr>\n",
       "      <th>max</th>\n",
       "      <td>59.000000</td>\n",
       "      <td>20.000000</td>\n",
       "      <td>183.000000</td>\n",
       "      <td>11.125000</td>\n",
       "      <td>70.000000</td>\n",
       "      <td>226.000000</td>\n",
       "      <td>1.000000</td>\n",
       "      <td>99.000000</td>\n",
       "      <td>3.000000</td>\n",
       "      <td>2.000000</td>\n",
       "      <td>2145.000000</td>\n",
       "      <td>1.000000</td>\n",
       "    </tr>\n",
       "  </tbody>\n",
       "</table>\n",
       "</div>"
      ],
      "text/plain": [
       "                id        trial    SegmentID      IAScore  Sharedwords  \\\n",
       "count  1103.000000  1103.000000  1103.000000  1103.000000   139.000000   \n",
       "mean     31.669991    10.502267    93.895739     2.671068    20.762590   \n",
       "std      16.230695     5.772120    52.444933     1.903405     9.608709   \n",
       "min       4.000000     1.000000    13.000000     0.000000     4.000000   \n",
       "25%      18.000000     5.000000    43.000000     1.281250    14.000000   \n",
       "50%      32.000000    11.000000    93.000000     2.312500    20.000000   \n",
       "75%      46.000000    15.500000   133.000000     3.687500    26.000000   \n",
       "max      59.000000    20.000000   183.000000    11.125000    70.000000   \n",
       "\n",
       "       NumberWords    GlobalCDR          Age   cog_status  educationLevel  \\\n",
       "count  1103.000000  1103.000000  1103.000000  1103.000000     1103.000000   \n",
       "mean     29.269266     0.421124    81.538531     1.306437        1.340888   \n",
       "std      25.542943     0.325334     6.905383     1.000192        0.739000   \n",
       "min       0.000000     0.000000    66.000000     0.000000        0.000000   \n",
       "25%      13.000000     0.000000    77.000000     1.000000        1.000000   \n",
       "50%      21.000000     0.500000    82.000000     1.000000        2.000000   \n",
       "75%      37.000000     0.500000    87.000000     2.000000        2.000000   \n",
       "max     226.000000     1.000000    99.000000     3.000000        2.000000   \n",
       "\n",
       "        lengthText     subj_tag  \n",
       "count  1103.000000  1103.000000  \n",
       "mean    342.855848     0.049864  \n",
       "std     262.370784     0.217763  \n",
       "min      10.000000     0.000000  \n",
       "25%     187.000000     0.000000  \n",
       "50%     282.000000     0.000000  \n",
       "75%     416.000000     0.000000  \n",
       "max    2145.000000     1.000000  "
      ]
     },
     "execution_count": 4,
     "metadata": {},
     "output_type": "execute_result"
    }
   ],
   "source": [
    "messages.describe()"
   ]
  },
  {
   "cell_type": "markdown",
   "metadata": {},
   "source": [
    "Checking some of the stats with some plots and the built-in methods with the pandas library"
   ]
  },
  {
   "cell_type": "code",
   "execution_count": 5,
   "metadata": {},
   "outputs": [
    {
     "data": {
      "text/html": [
       "<div>\n",
       "<style scoped>\n",
       "    .dataframe tbody tr th:only-of-type {\n",
       "        vertical-align: middle;\n",
       "    }\n",
       "\n",
       "    .dataframe tbody tr th {\n",
       "        vertical-align: top;\n",
       "    }\n",
       "\n",
       "    .dataframe thead th {\n",
       "        text-align: right;\n",
       "    }\n",
       "</style>\n",
       "<table border=\"1\" class=\"dataframe\">\n",
       "  <thead>\n",
       "    <tr style=\"text-align: right;\">\n",
       "      <th></th>\n",
       "      <th>id</th>\n",
       "      <th>trial</th>\n",
       "      <th>SegmentID</th>\n",
       "      <th>IAScore</th>\n",
       "      <th>Sharedwords</th>\n",
       "      <th>NumberWords</th>\n",
       "      <th>GlobalCDR</th>\n",
       "      <th>Age</th>\n",
       "      <th>educationLevel</th>\n",
       "      <th>lengthText</th>\n",
       "      <th>subj_tag</th>\n",
       "    </tr>\n",
       "    <tr>\n",
       "      <th>cog_status</th>\n",
       "      <th></th>\n",
       "      <th></th>\n",
       "      <th></th>\n",
       "      <th></th>\n",
       "      <th></th>\n",
       "      <th></th>\n",
       "      <th></th>\n",
       "      <th></th>\n",
       "      <th></th>\n",
       "      <th></th>\n",
       "      <th></th>\n",
       "    </tr>\n",
       "  </thead>\n",
       "  <tbody>\n",
       "    <tr>\n",
       "      <th>0</th>\n",
       "      <td>21.854015</td>\n",
       "      <td>10.518248</td>\n",
       "      <td>93.445255</td>\n",
       "      <td>3.757642</td>\n",
       "      <td>20.000000</td>\n",
       "      <td>39.733577</td>\n",
       "      <td>0.000000</td>\n",
       "      <td>79.474453</td>\n",
       "      <td>1.500000</td>\n",
       "      <td>477.273723</td>\n",
       "      <td>0.051095</td>\n",
       "    </tr>\n",
       "    <tr>\n",
       "      <th>1</th>\n",
       "      <td>26.137931</td>\n",
       "      <td>10.503979</td>\n",
       "      <td>94.185676</td>\n",
       "      <td>2.856102</td>\n",
       "      <td>20.890756</td>\n",
       "      <td>37.795756</td>\n",
       "      <td>0.420424</td>\n",
       "      <td>79.180371</td>\n",
       "      <td>1.310345</td>\n",
       "      <td>342.360743</td>\n",
       "      <td>0.050398</td>\n",
       "    </tr>\n",
       "    <tr>\n",
       "      <th>2</th>\n",
       "      <td>40.650685</td>\n",
       "      <td>10.486301</td>\n",
       "      <td>93.804795</td>\n",
       "      <td>2.308220</td>\n",
       "      <td>NaN</td>\n",
       "      <td>19.133562</td>\n",
       "      <td>0.500000</td>\n",
       "      <td>84.828767</td>\n",
       "      <td>1.349315</td>\n",
       "      <td>310.441781</td>\n",
       "      <td>0.051370</td>\n",
       "    </tr>\n",
       "    <tr>\n",
       "      <th>3</th>\n",
       "      <td>45.125000</td>\n",
       "      <td>10.500000</td>\n",
       "      <td>94.150000</td>\n",
       "      <td>1.036523</td>\n",
       "      <td>NaN</td>\n",
       "      <td>9.756250</td>\n",
       "      <td>1.000000</td>\n",
       "      <td>84.625000</td>\n",
       "      <td>1.125000</td>\n",
       "      <td>172.987500</td>\n",
       "      <td>0.043750</td>\n",
       "    </tr>\n",
       "  </tbody>\n",
       "</table>\n",
       "</div>"
      ],
      "text/plain": [
       "                   id      trial  SegmentID   IAScore  Sharedwords  \\\n",
       "cog_status                                                           \n",
       "0           21.854015  10.518248  93.445255  3.757642    20.000000   \n",
       "1           26.137931  10.503979  94.185676  2.856102    20.890756   \n",
       "2           40.650685  10.486301  93.804795  2.308220          NaN   \n",
       "3           45.125000  10.500000  94.150000  1.036523          NaN   \n",
       "\n",
       "            NumberWords  GlobalCDR        Age  educationLevel  lengthText  \\\n",
       "cog_status                                                                  \n",
       "0             39.733577   0.000000  79.474453        1.500000  477.273723   \n",
       "1             37.795756   0.420424  79.180371        1.310345  342.360743   \n",
       "2             19.133562   0.500000  84.828767        1.349315  310.441781   \n",
       "3              9.756250   1.000000  84.625000        1.125000  172.987500   \n",
       "\n",
       "            subj_tag  \n",
       "cog_status            \n",
       "0           0.051095  \n",
       "1           0.050398  \n",
       "2           0.051370  \n",
       "3           0.043750  "
      ]
     },
     "execution_count": 5,
     "metadata": {},
     "output_type": "execute_result"
    }
   ],
   "source": [
    "messages.groupby('cog_status').mean()"
   ]
  },
  {
   "cell_type": "code",
   "execution_count": 6,
   "metadata": {},
   "outputs": [
    {
     "data": {
      "text/html": [
       "<div>\n",
       "<style scoped>\n",
       "    .dataframe tbody tr th:only-of-type {\n",
       "        vertical-align: middle;\n",
       "    }\n",
       "\n",
       "    .dataframe tbody tr th {\n",
       "        vertical-align: top;\n",
       "    }\n",
       "\n",
       "    .dataframe thead th {\n",
       "        text-align: right;\n",
       "    }\n",
       "</style>\n",
       "<table border=\"1\" class=\"dataframe\">\n",
       "  <thead>\n",
       "    <tr style=\"text-align: right;\">\n",
       "      <th></th>\n",
       "      <th>id</th>\n",
       "      <th>trial</th>\n",
       "      <th>SegmentID</th>\n",
       "      <th>SegmentName</th>\n",
       "      <th>IAScore</th>\n",
       "      <th>Sharedwords</th>\n",
       "      <th>NumberWords</th>\n",
       "      <th>FinalFixedText</th>\n",
       "      <th>status</th>\n",
       "      <th>GlobalCDR</th>\n",
       "      <th>Age</th>\n",
       "      <th>Sex</th>\n",
       "      <th>Education</th>\n",
       "      <th>cog_status</th>\n",
       "      <th>educationLevel</th>\n",
       "      <th>lengthText</th>\n",
       "      <th>female</th>\n",
       "      <th>subj_tag</th>\n",
       "    </tr>\n",
       "  </thead>\n",
       "  <tbody>\n",
       "    <tr>\n",
       "      <th>0</th>\n",
       "      <td>4</td>\n",
       "      <td>1</td>\n",
       "      <td>43</td>\n",
       "      <td>DEEPB_3a</td>\n",
       "      <td>4.00000</td>\n",
       "      <td>47.0</td>\n",
       "      <td>149</td>\n",
       "      <td>This is a scene of sea lions at the edge of th...</td>\n",
       "      <td>Impaired Not MCI</td>\n",
       "      <td>0.5</td>\n",
       "      <td>83</td>\n",
       "      <td>Female</td>\n",
       "      <td>&gt; 16 Years</td>\n",
       "      <td>1</td>\n",
       "      <td>2</td>\n",
       "      <td>800</td>\n",
       "      <td>Female</td>\n",
       "      <td>1</td>\n",
       "    </tr>\n",
       "    <tr>\n",
       "      <th>1</th>\n",
       "      <td>4</td>\n",
       "      <td>2</td>\n",
       "      <td>105</td>\n",
       "      <td>BURY_1b</td>\n",
       "      <td>4.90625</td>\n",
       "      <td>70.0</td>\n",
       "      <td>226</td>\n",
       "      <td>This clip tells quite a bit of story in a shor...</td>\n",
       "      <td>Impaired Not MCI</td>\n",
       "      <td>0.5</td>\n",
       "      <td>83</td>\n",
       "      <td>Female</td>\n",
       "      <td>&gt; 16 Years</td>\n",
       "      <td>1</td>\n",
       "      <td>2</td>\n",
       "      <td>1178</td>\n",
       "      <td>Female</td>\n",
       "      <td>0</td>\n",
       "    </tr>\n",
       "    <tr>\n",
       "      <th>2</th>\n",
       "      <td>4</td>\n",
       "      <td>3</td>\n",
       "      <td>13</td>\n",
       "      <td>CORAL_5b</td>\n",
       "      <td>2.12500</td>\n",
       "      <td>41.0</td>\n",
       "      <td>128</td>\n",
       "      <td>This Seems to be certainly entirely fictional ...</td>\n",
       "      <td>Impaired Not MCI</td>\n",
       "      <td>0.5</td>\n",
       "      <td>83</td>\n",
       "      <td>Female</td>\n",
       "      <td>&gt; 16 Years</td>\n",
       "      <td>1</td>\n",
       "      <td>2</td>\n",
       "      <td>661</td>\n",
       "      <td>Female</td>\n",
       "      <td>0</td>\n",
       "    </tr>\n",
       "    <tr>\n",
       "      <th>3</th>\n",
       "      <td>4</td>\n",
       "      <td>4</td>\n",
       "      <td>73</td>\n",
       "      <td>WINGE_12a</td>\n",
       "      <td>4.00000</td>\n",
       "      <td>35.0</td>\n",
       "      <td>129</td>\n",
       "      <td>This is a clip of some birds on a body of wate...</td>\n",
       "      <td>Impaired Not MCI</td>\n",
       "      <td>0.5</td>\n",
       "      <td>83</td>\n",
       "      <td>Female</td>\n",
       "      <td>&gt; 16 Years</td>\n",
       "      <td>1</td>\n",
       "      <td>2</td>\n",
       "      <td>650</td>\n",
       "      <td>Female</td>\n",
       "      <td>0</td>\n",
       "    </tr>\n",
       "    <tr>\n",
       "      <th>4</th>\n",
       "      <td>4</td>\n",
       "      <td>5</td>\n",
       "      <td>123</td>\n",
       "      <td>FREED_2a</td>\n",
       "      <td>7.15625</td>\n",
       "      <td>38.0</td>\n",
       "      <td>122</td>\n",
       "      <td>Its a picture of a woman walking into looks li...</td>\n",
       "      <td>Impaired Not MCI</td>\n",
       "      <td>0.5</td>\n",
       "      <td>83</td>\n",
       "      <td>Female</td>\n",
       "      <td>&gt; 16 Years</td>\n",
       "      <td>1</td>\n",
       "      <td>2</td>\n",
       "      <td>625</td>\n",
       "      <td>Female</td>\n",
       "      <td>0</td>\n",
       "    </tr>\n",
       "  </tbody>\n",
       "</table>\n",
       "</div>"
      ],
      "text/plain": [
       "   id  trial  SegmentID SegmentName  IAScore  Sharedwords  NumberWords  \\\n",
       "0   4      1         43    DEEPB_3a  4.00000         47.0          149   \n",
       "1   4      2        105     BURY_1b  4.90625         70.0          226   \n",
       "2   4      3         13    CORAL_5b  2.12500         41.0          128   \n",
       "3   4      4         73   WINGE_12a  4.00000         35.0          129   \n",
       "4   4      5        123    FREED_2a  7.15625         38.0          122   \n",
       "\n",
       "                                      FinalFixedText            status  \\\n",
       "0  This is a scene of sea lions at the edge of th...  Impaired Not MCI   \n",
       "1  This clip tells quite a bit of story in a shor...  Impaired Not MCI   \n",
       "2  This Seems to be certainly entirely fictional ...  Impaired Not MCI   \n",
       "3  This is a clip of some birds on a body of wate...  Impaired Not MCI   \n",
       "4  Its a picture of a woman walking into looks li...  Impaired Not MCI   \n",
       "\n",
       "   GlobalCDR  Age     Sex   Education  cog_status  educationLevel  lengthText  \\\n",
       "0        0.5   83  Female  > 16 Years           1               2         800   \n",
       "1        0.5   83  Female  > 16 Years           1               2        1178   \n",
       "2        0.5   83  Female  > 16 Years           1               2         661   \n",
       "3        0.5   83  Female  > 16 Years           1               2         650   \n",
       "4        0.5   83  Female  > 16 Years           1               2         625   \n",
       "\n",
       "   female  subj_tag  \n",
       "0  Female         1  \n",
       "1  Female         0  \n",
       "2  Female         0  \n",
       "3  Female         0  \n",
       "4  Female         0  "
      ]
     },
     "execution_count": 6,
     "metadata": {},
     "output_type": "execute_result"
    }
   ],
   "source": [
    "messages.head()"
   ]
  },
  {
   "cell_type": "markdown",
   "metadata": {},
   "source": [
    "Plotting histograms for some of the data"
   ]
  },
  {
   "cell_type": "code",
   "execution_count": 7,
   "metadata": {},
   "outputs": [
    {
     "data": {
      "image/png": "[encoded data removed]",
      "text/plain": [
       "<Figure size 1152x864 with 7 Axes>"
      ]
     },
     "metadata": {
      "needs_background": "light"
     },
     "output_type": "display_data"
    }
   ],
   "source": [
    "%matplotlib inline\n",
    "plt.figure(figsize = (16,12))\n",
    "\n",
    "# get bins for discrete variables\n",
    "def bin_edges(u): \n",
    "    u = sorted(u)\n",
    "    d = (u[1] - u[0])\n",
    "    edges = u - d/2\n",
    "    edges = np.append(edges, edges[-1]+d)\n",
    "    return edges\n",
    "\n",
    "sp = 1     \n",
    "values = messages.keys().values\n",
    "for key in values[9:16]:\n",
    "    plt.subplot(4, 4, sp)\n",
    "    plt.hist(messages[key], rwidth=.75)\n",
    "    plt.xticks(sorted(messages[key].unique()))\n",
    "    \n",
    "    #if sp in [1, 5, 9]:\n",
    "     #   plt.ylabel('frequency', fontsize=18)\n",
    "    plt.yticks(fontsize=14)\n",
    "    plt.xticks(fontsize=14)\n",
    "    plt.title(key, fontsize=22)\n",
    "    sp = sp + 1\n",
    "#plt.tight_layout()\n",
    "plt.show()"
   ]
  },
  {
   "cell_type": "markdown",
   "metadata": {},
   "source": [
    "Trying a joint plot between IA score and the cognitive status. We know there is a clear correlation so it should be clearly visible "
   ]
  },
  {
   "cell_type": "code",
   "execution_count": 8,
   "metadata": {},
   "outputs": [
    {
     "data": {
      "image/png": "[encoded data removed]",
      "text/plain": [
       "<Figure size 432x432 with 3 Axes>"
      ]
     },
     "metadata": {
      "needs_background": "light"
     },
     "output_type": "display_data"
    }
   ],
   "source": [
    "sns.jointplot(x='cog_status',y='IAScore',data=messages,color='red',kind='kde');"
   ]
  },
  {
   "cell_type": "markdown",
   "metadata": {},
   "source": [
    "The length of the descriptions (number of words and number of characters) may be indicative of cognitive status. Plotting the joint plots..."
   ]
  },
  {
   "cell_type": "code",
   "execution_count": 9,
   "metadata": {},
   "outputs": [
    {
     "data": {
      "image/png": "[encoded data removed]",
      "text/plain": [
       "<Figure size 432x432 with 3 Axes>"
      ]
     },
     "metadata": {
      "needs_background": "light"
     },
     "output_type": "display_data"
    },
    {
     "data": {
      "image/png": "[encoded data removed]",
      "text/plain": [
       "<Figure size 432x432 with 3 Axes>"
      ]
     },
     "metadata": {
      "needs_background": "light"
     },
     "output_type": "display_data"
    }
   ],
   "source": [
    "sns.jointplot(x='cog_status',y='NumberWords',data=messages,color='red',kind='kde');\n",
    "sns.jointplot(x='cog_status',y='lengthText',data=messages,color='red',kind='kde');"
   ]
  },
  {
   "cell_type": "markdown",
   "metadata": {},
   "source": [
    "Just some other ways to plot histograms below. The joint histogram so far is the best display to show the possible value of using the length of description as predictor of cognitive status\n",
    "\n",
    "The kernel plot also returns a good plot with the difference between cognitive status"
   ]
  },
  {
   "cell_type": "code",
   "execution_count": 10,
   "metadata": {},
   "outputs": [
    {
     "data": {
      "image/png": "[encoded data removed]",
      "text/plain": [
       "<Figure size 432x288 with 1 Axes>"
      ]
     },
     "metadata": {
      "needs_background": "light"
     },
     "output_type": "display_data"
    },
    {
     "data": {
      "image/png": "[encoded data removed]",
      "text/plain": [
       "<Figure size 864x288 with 4 Axes>"
      ]
     },
     "metadata": {
      "needs_background": "light"
     },
     "output_type": "display_data"
    }
   ],
   "source": [
    "messages['NumberWords'].plot(bins=50, kind='hist') \n",
    "messages.hist(column='lengthText', by='cog_status', bins=50,figsize=(12,4))\n",
    "bins = np.linspace(0, 2000, 10)"
   ]
  },
  {
   "cell_type": "code",
   "execution_count": 11,
   "metadata": {},
   "outputs": [
    {
     "data": {
      "text/plain": [
       "cog_status\n",
       "0    AxesSubplot(0.125,0.125;0.775x0.755)\n",
       "1    AxesSubplot(0.125,0.125;0.775x0.755)\n",
       "2    AxesSubplot(0.125,0.125;0.775x0.755)\n",
       "3    AxesSubplot(0.125,0.125;0.775x0.755)\n",
       "Name: lengthText, dtype: object"
      ]
     },
     "execution_count": 11,
     "metadata": {},
     "output_type": "execute_result"
    },
    {
     "data": {
      "image/png": "[encoded data removed]",
      "text/plain": [
       "<Figure size 432x288 with 1 Axes>"
      ]
     },
     "metadata": {
      "needs_background": "light"
     },
     "output_type": "display_data"
    }
   ],
   "source": [
    "bin_centers = 0.5*(bins[1:] + bins[:-1])\n",
    "messages.groupby('cog_status')['lengthText'].plot(kind='kde', legend='true')"
   ]
  },
  {
   "cell_type": "markdown",
   "metadata": {},
   "source": [
    "Going to plot 2D histograms for each variable and divided by the four cognitive status. We know that IA score and Global CDR already should give a good distinction between categories "
   ]
  },
  {
   "cell_type": "code",
   "execution_count": 12,
   "metadata": {},
   "outputs": [
    {
     "data": {
      "image/png": "[encoded data removed]",
      "text/plain": [
       "<Figure size 1152x864 with 12 Axes>"
      ]
     },
     "metadata": {
      "needs_background": "light"
     },
     "output_type": "display_data"
    }
   ],
   "source": [
    "H2d = dict.fromkeys(messages.keys())\n",
    "H2d.pop('trial')\n",
    "H2d.pop('SegmentID')\n",
    "H2d.pop('SegmentName')\n",
    "H2d.pop('id')\n",
    "H2d.pop('Education')\n",
    "H2d.pop('status')\n",
    "H2d.pop('FinalFixedText')\n",
    "H2d.pop('Sharedwords')\n",
    "H2d.pop('Sex')\n",
    "H2d.pop('cog_status')\n",
    "H2d.pop('subj_tag')\n",
    "H2d.pop('female')\n",
    "\n",
    "\n",
    "\n",
    "def bin_centers(a): \n",
    "    return a[:-1] + (a[1] - a[0])/2\n",
    "\n",
    "plt.figure(figsize = (16,12))\n",
    "sp = 1\n",
    "for key in H2d.keys():\n",
    "    H2d[key] = np.histogram2d(messages[key], messages['cog_status']  )\n",
    "    ax = plt.subplot(3, 4, sp)\n",
    "    r = 0\n",
    "    ytlabels = np.round(bin_centers(H2d[key][1][::-1]), r)\n",
    "    sns.heatmap(np.flipud(H2d[key][0]), cmap='PuBu', ax=ax, annot=False, \n",
    "                yticklabels=ytlabels, xticklabels=['negative', 'postive'])\n",
    "    ax.set_xlabel('Cog status assessment', size=18)\n",
    "    ax.set_title(key, size=22)\n",
    "    sp = sp + 1\n",
    "    #plt.yticks(fontsize=12)\n",
    "    plt.xticks(fontsize=12)\n",
    "plt.tight_layout()\n",
    "plt.show()\n"
   ]
  },
  {
   "cell_type": "markdown",
   "metadata": {},
   "source": [
    "Going to try correlations first to see which factor may be more relevant, either number of words or length of text. Also examining how the factors relate to each other. The heatmaps are pretty easy to follow"
   ]
  },
  {
   "cell_type": "code",
   "execution_count": 13,
   "metadata": {},
   "outputs": [
    {
     "ename": "NameError",
     "evalue": "name 'stats' is not defined",
     "output_type": "error",
     "traceback": [
      "\u001b[0;31m---------------------------------------------------------------------------\u001b[0m",
      "\u001b[0;31mNameError\u001b[0m                                 Traceback (most recent call last)",
      "\u001b[0;32m<ipython-input-13-9cc6cf687a9c>\u001b[0m in \u001b[0;36m<module>\u001b[0;34m\u001b[0m\n\u001b[1;32m      5\u001b[0m \u001b[0;34m\u001b[0m\u001b[0m\n\u001b[1;32m      6\u001b[0m \u001b[0;32mfor\u001b[0m \u001b[0mkey\u001b[0m \u001b[0;32min\u001b[0m \u001b[0mH2d\u001b[0m\u001b[0;34m.\u001b[0m\u001b[0mkeys\u001b[0m\u001b[0;34m(\u001b[0m\u001b[0;34m)\u001b[0m\u001b[0;34m:\u001b[0m\u001b[0;34m\u001b[0m\u001b[0;34m\u001b[0m\u001b[0m\n\u001b[0;32m----> 7\u001b[0;31m     \u001b[0mr\u001b[0m\u001b[0;34m,\u001b[0m \u001b[0mp\u001b[0m \u001b[0;34m=\u001b[0m \u001b[0mstats\u001b[0m\u001b[0;34m.\u001b[0m\u001b[0mpointbiserialr\u001b[0m\u001b[0;34m(\u001b[0m\u001b[0mmessages\u001b[0m\u001b[0;34m[\u001b[0m\u001b[0mkey\u001b[0m\u001b[0;34m]\u001b[0m\u001b[0;34m,\u001b[0m \u001b[0mY\u001b[0m\u001b[0;34m)\u001b[0m\u001b[0;34m\u001b[0m\u001b[0;34m\u001b[0m\u001b[0m\n\u001b[0m\u001b[1;32m      8\u001b[0m     \u001b[0mR\u001b[0m\u001b[0;34m[\u001b[0m\u001b[0mkey\u001b[0m\u001b[0;34m]\u001b[0m \u001b[0;34m=\u001b[0m \u001b[0mr\u001b[0m\u001b[0;34m\u001b[0m\u001b[0;34m\u001b[0m\u001b[0m\n\u001b[1;32m      9\u001b[0m     \u001b[0mP\u001b[0m\u001b[0;34m[\u001b[0m\u001b[0mkey\u001b[0m\u001b[0;34m]\u001b[0m \u001b[0;34m=\u001b[0m \u001b[0mp\u001b[0m\u001b[0;34m\u001b[0m\u001b[0;34m\u001b[0m\u001b[0m\n",
      "\u001b[0;31mNameError\u001b[0m: name 'stats' is not defined"
     ]
    }
   ],
   "source": [
    "Y = messages['cog_status']\n",
    "\n",
    "R = dict([(key,0) for key in H2d])\n",
    "P = dict([(key,0) for key in H2d])\n",
    "\n",
    "for key in H2d.keys():\n",
    "    r, p = stats.pointbiserialr(messages[key], Y)\n",
    "    R[key] = r\n",
    "    P[key] = p\n",
    "\n",
    "# get absolute value of the correlations and sort    \n",
    "R_abs = dict([(key, abs(item)) for key, item in R.items()]) \n",
    "R_sort = list(zip(*sorted(R.items(), key=operator.itemgetter(1), reverse=True)))\n",
    "R_sort_abs = list(zip(*sorted(R_abs.items(), key=operator.itemgetter(1), reverse=True)))\n",
    "\n",
    "# plot corrs\n",
    "sns.set_style('white')\n",
    "fig = plt.figure(figsize=(16, 5))\n",
    "ax1 = fig.add_subplot(1,2,1)\n",
    "plt.bar(range(len(R_sort[1])), R_sort[1])\n",
    "plt.xticks(range(len(R_sort[1])), R_sort[0], rotation=-45, fontsize=12 )\n",
    "plt.ylabel('correlation coefficient', fontsize=12)\n",
    "\n",
    "# plot abs corrs\n",
    "ax2 = fig.add_subplot(1,2,2)\n",
    "plt.bar(range(len(R_sort_abs[1])), R_sort_abs[1])\n",
    "plt.xticks(range(len(R_sort_abs[1])), R_sort_abs[0], rotation=-45, fontsize=12 )\n",
    "plt.ylabel('|correlation coefficient|', fontsize=12)\n",
    "\n",
    "plt.show()"
   ]
  },
  {
   "cell_type": "code",
   "execution_count": null,
   "metadata": {},
   "outputs": [],
   "source": [
    "# get independent variables\n",
    "Xvars = list(H2d.keys())\n",
    "print(Xvars)\n",
    "\n",
    "R = np.zeros([len(Xvars), len(Xvars)])\n",
    "P = np.zeros([len(Xvars), len(Xvars)])\n",
    "\n",
    "# do point biserial correlation for dicho/cont variables\n",
    "for i in range(len(Xvars)):\n",
    "    for j in range(len(Xvars)):\n",
    "        r, p = stats.pointbiserialr(messages[Xvars[i]], messages[Xvars[j]])\n",
    "        R[i][j] = r\n",
    "        P[i][j] = p\n",
    "\n",
    "# plot\n",
    "fig = plt.figure(figsize=(18,7))\n",
    "ax1 = fig.add_subplot(1,2, 1)\n",
    "sns.heatmap(abs(R), annot=True, fmt=\".2f\", xticklabels=Xvars, yticklabels=Xvars, cmap='PuBu', ax=ax1)\n",
    "plt.title('Correlation coefficients')\n",
    "\n",
    "ax2 = fig.add_subplot(1,2,2)\n",
    "sns.heatmap(P, annot=True, fmt=\".2f\", xticklabels=Xvars, yticklabels=Xvars, cmap='PuBu', ax=ax2)\n",
    "plt.title('p values')\n",
    "\n",
    "plt.show()\n"
   ]
  },
  {
   "cell_type": "markdown",
   "metadata": {},
   "source": [
    "Interesting. It looks like number of words has a bigger correlation coefficient than length of text. Also evident to find high correlation between IAscore and Number of wors and lengthText\n",
    "\n",
    "Now it's time to explore the texts and see what we can do with Python. I'll look for the longest text and will extract the stop words"
   ]
  },
  {
   "cell_type": "code",
   "execution_count": 14,
   "metadata": {},
   "outputs": [
    {
     "data": {
      "text/plain": [
       "count    1103.000000\n",
       "mean      342.855848\n",
       "std       262.370784\n",
       "min        10.000000\n",
       "25%       187.000000\n",
       "50%       282.000000\n",
       "75%       416.000000\n",
       "max      2145.000000\n",
       "Name: lengthText, dtype: float64"
      ]
     },
     "execution_count": 14,
     "metadata": {},
     "output_type": "execute_result"
    }
   ],
   "source": [
    "messages.lengthText.describe()"
   ]
  },
  {
   "cell_type": "code",
   "execution_count": 15,
   "metadata": {},
   "outputs": [
    {
     "data": {
      "text/plain": [
       "\"Okay that's interesting. a car pulls up this is in an urban setting but you see a building it's at night. you see lit buildings, large buildings, i wouldn't say sky scrapers but tall buildings, business buildings, office buildings. in the background but in the background. the immediate scene although you don't get a very good look at it, it's mostly focused on the man and woman involved. the car pulls up, as i say i think its nighttime, a light colored car pulls up, the door opens, a man gets out he walks around to the back of the car. it's not really mysterious, he opens it a station wagon or something like that, he starts to open the rear of the station wagon and as he does, a woman pulls up, i should mention the male i recognized a little bit later as Kevin Spacey, I didn't recognize the actress. a woman comes around from behind the car and greets him, i couldn't tell whether it appears maybe she got out of the same car but I can't say that i saw her in the car but i don't know where else she would of come from. she comes around, he is taking a bag, a grocery bag, a good-sized grocery bag, i didn't notice any groceries in it but it might have had groceries in it, did have something in it, he is taking that out of the rear of the car as if he's about to go into maybe a house but no house is shown and I didn't see any evidence that this is really a residential neighborhood. as if he is about to take that in, but she sort of stops him or at least continues the conversation quite animatedly, she even puts her hands out to him, both hands, puts her hands on either on the bag or on his hands right to stop him. i'm glad the sound was not playing because i would have been so absorbed by that wondering what she was talking about that i would not have been able to pick up the details, the visual details. the point you never find out where they're going or get any evidence of what the discussion is, because this is where the clip leaves off. the conversation between them though there is no fear or hesitation on either of their parts, it seems to be very familiar, it seems to be pretty clear that they know each other\""
      ]
     },
     "execution_count": 15,
     "metadata": {},
     "output_type": "execute_result"
    }
   ],
   "source": [
    "messages[messages['lengthText'] == 2145]['FinalFixedText'].iloc[0]"
   ]
  },
  {
   "cell_type": "code",
   "execution_count": 16,
   "metadata": {},
   "outputs": [
    {
     "data": {
      "text/plain": [
       "['i', 'me', 'my', 'myself', 'we', 'our', 'ours', 'ourselves', 'you', \"you're\"]"
      ]
     },
     "execution_count": 16,
     "metadata": {},
     "output_type": "execute_result"
    }
   ],
   "source": [
    "longtext =messages[messages['lengthText'] == 2145]['FinalFixedText'].iloc[0]\n",
    "stopwords.words('english')[0:10] # Show some stop words"
   ]
  },
  {
   "cell_type": "code",
   "execution_count": 17,
   "metadata": {},
   "outputs": [
    {
     "name": "stdout",
     "output_type": "stream",
     "text": [
      "['Okay', \"that's\", 'interesting.', 'car', 'pulls', 'urban', 'setting', 'see', 'building', 'night.', 'see', 'lit', 'buildings,', 'large', 'buildings,', 'say', 'sky', 'scrapers', 'tall', 'buildings,', 'business', 'buildings,', 'office', 'buildings.', 'background', 'background.', 'immediate', 'scene', 'although', 'get', 'good', 'look', 'it,', 'mostly', 'focused', 'man', 'woman', 'involved.', 'car', 'pulls', 'up,', 'say', 'think', 'nighttime,', 'light', 'colored', 'car', 'pulls', 'up,', 'door', 'opens,', 'man', 'gets', 'walks', 'around', 'back', 'car.', 'really', 'mysterious,', 'opens', 'station', 'wagon', 'something', 'like', 'that,', 'starts', 'open', 'rear', 'station', 'wagon', 'does,', 'woman', 'pulls', 'up,', 'mention', 'male', 'recognized', 'little', 'bit', 'later', 'Kevin', 'Spacey,', 'recognize', 'actress.', 'woman', 'comes', 'around', 'behind', 'car', 'greets', 'him,', 'tell', 'whether', 'appears', 'maybe', 'got', 'car', \"can't\", 'say', 'saw', 'car', 'know', 'else', 'would', 'come', 'from.', 'comes', 'around,', 'taking', 'bag,', 'grocery', 'bag,', 'good-sized', 'grocery', 'bag,', 'notice', 'groceries', 'might', 'groceries', 'it,', 'something', 'it,', 'taking', 'rear', 'car', \"he's\", 'go', 'maybe', 'house', 'house', 'shown', 'see', 'evidence', 'really', 'residential', 'neighborhood.', 'take', 'in,', 'sort', 'stops', 'least', 'continues', 'conversation', 'quite', 'animatedly,', 'even', 'puts', 'hands', 'him,', 'hands,', 'puts', 'hands', 'either', 'bag', 'hands', 'right', 'stop', 'him.', \"i'm\", 'glad', 'sound', 'playing', 'would', 'absorbed', 'wondering', 'talking', 'would', 'able', 'pick', 'details,', 'visual', 'details.', 'point', 'never', 'find', \"they're\", 'going', 'get', 'evidence', 'discussion', 'is,', 'clip', 'leaves', 'off.', 'conversation', 'though', 'fear', 'hesitation', 'either', 'parts,', 'seems', 'familiar,', 'seems', 'pretty', 'clear', 'know']\n"
     ]
    }
   ],
   "source": [
    "clean_stopwords = [word for word in longtext.split() if word.lower() not in stopwords.words('english')]\n",
    "print(clean_stopwords)"
   ]
  },
  {
   "cell_type": "markdown",
   "metadata": {},
   "source": [
    "Good. This is working. Now I need to write a function that will apply the removal of stop words for all texts"
   ]
  },
  {
   "cell_type": "code",
   "execution_count": 18,
   "metadata": {},
   "outputs": [],
   "source": [
    "def text_process(mytext):\n",
    "    \"\"\"\n",
    "    Takes in a string of text, then performs the following:\n",
    "    1. Remove all punctuation\n",
    "    2. Remove all stopwords\n",
    "    3. Returns a list of the cleaned text\n",
    "    \"\"\"\n",
    "    # Check characters to see if they are in punctuation\n",
    "    nopunc = [char for char in mytext if char not in string.punctuation]\n",
    "\n",
    "    # Join the characters again to form the string.\n",
    "    nopunc = ''.join(nopunc)\n",
    "    \n",
    "    # Now just remove any stopwords\n",
    "    return [word for word in nopunc.split() if word.lower() not in stopwords.words('english')]"
   ]
  },
  {
   "cell_type": "code",
   "execution_count": 19,
   "metadata": {},
   "outputs": [
    {
     "data": {
      "text/plain": [
       "0    [scene, sea, lions, edge, probably, ocean, har...\n",
       "1    [clip, tells, quite, bit, story, short, clip, ...\n",
       "2    [Seems, certainly, entirely, fictional, record...\n",
       "3    [clip, birds, body, water, Longnecked, could, ...\n",
       "4    [picture, woman, walking, looks, like, high, s...\n",
       "Name: FinalFixedText, dtype: object"
      ]
     },
     "execution_count": 19,
     "metadata": {},
     "output_type": "execute_result"
    }
   ],
   "source": [
    "# Check to make sure its working with the first 5 messages\n",
    "messages['FinalFixedText'].head(5).apply(text_process)"
   ]
  },
  {
   "cell_type": "code",
   "execution_count": 20,
   "metadata": {},
   "outputs": [
    {
     "data": {
      "text/plain": [
       "0       [scene, sea, lions, edge, probably, ocean, har...\n",
       "1       [clip, tells, quite, bit, story, short, clip, ...\n",
       "2       [Seems, certainly, entirely, fictional, record...\n",
       "3       [clip, birds, body, water, Longnecked, could, ...\n",
       "4       [picture, woman, walking, looks, like, high, s...\n",
       "                              ...                        \n",
       "1098    [Well, indian, reservation, different, aged, p...\n",
       "1099    [penguins, gathered, together, antarctic, that...\n",
       "1100    [Well, young, woman, looks, like, shes, new, t...\n",
       "1101    [Well, people, blind, help, help, thats, theyr...\n",
       "1102    [Well, three, children, little, dirty, looked,...\n",
       "Name: FinalFixedText, Length: 1103, dtype: object"
      ]
     },
     "execution_count": 20,
     "metadata": {},
     "output_type": "execute_result"
    }
   ],
   "source": [
    "messages['FinalFixedText'].apply(text_process)"
   ]
  },
  {
   "cell_type": "markdown",
   "metadata": {},
   "source": [
    "Now I have the texts without the stop words. This is promising for the IA scoring. Still need to write the function that compares the number of shared words but that should not be difficult.\n",
    "\n",
    "Going to apply different prediction methods. I am going to use number of words, since it had a better correlation coefficient than length of text. There are 4 cognitive values to predict, so ordered logistic regresion should be the first one to try. Also trying other methods like multinomial logistic regression. "
   ]
  },
  {
   "cell_type": "code",
   "execution_count": null,
   "metadata": {},
   "outputs": [],
   "source": [
    "# model performance\n",
    "def results(y_test, y_pred, display):\n",
    "    # accuracy, hits, true_negatives, misses, false_positives\n",
    "    acc = sum(y_test == y_pred)/len(y_test)\n",
    "    tpos = sum((y_test == 1) & (y_pred==1))/sum(y_test == 1)\n",
    "    tneg = sum((y_test == 0) & (y_pred==0))/sum(y_test == 0)\n",
    "    fneg = sum((y_test == 1) & (y_pred==0))/sum(y_test == 1)\n",
    "    fpos = sum((y_test == 0) & (y_pred==1))/sum(y_test == 0)\n",
    "    if display:\n",
    "        # print the results\n",
    "        print('accuracy = %.3f' % acc)\n",
    "        print('hits = %.3f' % tpos)\n",
    "        print('misses = %.3f' % fneg)\n",
    "        print('true negatives = %.3f' % tneg)\n",
    "        print('false positives = %.3f' % fpos)\n",
    "    # save the results\n",
    "    return {'acc': acc, 'tpos': tpos, 'tneg': tneg, 'fneg': fneg, 'fpos': fpos}"
   ]
  },
  {
   "cell_type": "code",
   "execution_count": null,
   "metadata": {},
   "outputs": [],
   "source": [
    "def acc_fun(target_true, target_fit):\n",
    "    target_fit = np.round(target_fit)\n",
    "    target_fit.astype('int')\n",
    "    return accuracy_score(target_true, target_fit)\n",
    "\n",
    "acc = make_scorer(acc_fun)\n",
    "MAE = make_scorer(mean_absolute_error)\n",
    "folds = 10\n",
    "model_ordinal = LogisticAT(alpha=0)  # alpha parameter set to zero to perform no regularisation\n",
    "model_linear = LinearRegression()\n",
    "model_1vR = LogisticRegression(multi_class='ovr',\n",
    "    class_weight='balanced')\n",
    "model_multi = LogisticRegression(multi_class='multinomial',\n",
    "    solver='lbfgs',\n",
    "    class_weight='balanced')\n",
    "\n",
    "features = messages[['NumberWords']]\n",
    "target = messages['cog_status']               \n",
    "\n",
    "print('Accuracy:' )\n",
    "acc_1vR = cross_val_score(model_1vR,\n",
    "    features,\n",
    "    target,\n",
    "    cv=folds,\n",
    "    scoring=acc)\n",
    "print('Logistic regression (one versus rest): ', np.mean(acc_1vR))\n",
    "acc_1vR = cross_val_score(model_1vR,\n",
    "    features,\n",
    "    target,\n",
    "    cv=folds,\n",
    "    scoring=MAE)\n",
    "print('Logistic regression (one versus rest) Mean absolute error: ', np.mean(acc_1vR))\n",
    "acc_multi = cross_val_score(model_multi,\n",
    "    features,\n",
    "    target,\n",
    "    cv=folds,\n",
    "    scoring=acc)\n",
    "print('Logistic regression (multinomial): ', np.mean(acc_multi))\n",
    "acc_multi = cross_val_score(model_multi,\n",
    "    features,\n",
    "    target,\n",
    "    cv=folds,\n",
    "    scoring=MAE)\n",
    "print('Logistic regression (multinomial) Mean absolute error: ', np.mean(acc_multi))\n",
    "acc_ordinal = cross_val_score(model_ordinal,\n",
    "    features,\n",
    "    target,\n",
    "    cv=folds,\n",
    "    scoring=acc)\n",
    "print('Ordered logistic regression: ', np.mean(acc_ordinal))\n",
    "\n",
    "acc_ordinal = cross_val_score(model_ordinal,\n",
    "    features,\n",
    "    target,\n",
    "    cv=folds,\n",
    "    scoring=MAE)\n",
    "print('Ordered logistic regression Mean absolute error: ', np.mean(acc_ordinal))\n"
   ]
  },
  {
   "cell_type": "markdown",
   "metadata": {},
   "source": [
    "Not very exciting. Best method is the logistic regression multinomial (accuracy 35%). This may be harder to predict with 4 categories. Going to try next with a random forest classifier. I will use this time 70% data for training and 30% data for validation"
   ]
  },
  {
   "cell_type": "code",
   "execution_count": null,
   "metadata": {},
   "outputs": [],
   "source": []
  },
  {
   "cell_type": "code",
   "execution_count": null,
   "metadata": {},
   "outputs": [],
   "source": [
    "X_train, X_test, y_train, y_test = train_test_split(features, target, test_size=0.3)\n",
    "rfc = RandomForestClassifier(n_estimators=200)\n",
    "rfc.fit(X_train,y_train)\n",
    "rfc_preds = rfc.predict(X_test)\n",
    "print(classification_report(y_test,rfc_preds))\n",
    "print('MAE:', metrics.mean_absolute_error(y_test, rfc_preds))\n",
    "print('MSE:', metrics.mean_squared_error(y_test, rfc_preds))\n",
    "print('RMSE:', np.sqrt(metrics.mean_squared_error(y_test,rfc_preds)))\n",
    "print(confusion_matrix(y_test,rfc_preds))\n",
    "print('Test accuracy is {}'.format(accuracy_score(y_test, rfc_preds)))"
   ]
  },
  {
   "cell_type": "markdown",
   "metadata": {},
   "source": [
    "37% with Random Forest is better but not promising. Going to build a neural network with a loss function focused on categorical cross . entropy and customize the layers for categorical classification. Also using 30% data to test"
   ]
  },
  {
   "cell_type": "code",
   "execution_count": null,
   "metadata": {},
   "outputs": [],
   "source": [
    "def baseline_model():\n",
    "# create model\n",
    "    model = Sequential()\n",
    "    model.add(Dense(8, input_dim=1, activation='relu'))\n",
    "    model.add(Dense(4, activation='softmax'))\n",
    "    # Compile model\n",
    "    model.compile(loss='sparse_categorical_crossentropy', optimizer='adam', metrics=['accuracy'])\n",
    "    return model\n",
    "\n",
    "model = baseline_model()\n",
    "model.fit(X_train, y_train, epochs=200, batch_size=10)\n",
    "predictions = model.predict_classes(X_test)\n"
   ]
  },
  {
   "cell_type": "code",
   "execution_count": null,
   "metadata": {},
   "outputs": [],
   "source": [
    "print(classification_report(y_test,predictions))\n",
    "print('Test accuracy is {}'.format(accuracy_score(y_test, predictions)))"
   ]
  },
  {
   "cell_type": "markdown",
   "metadata": {},
   "source": [
    "Accuracy of 42% with this configuration of neural networks. It is getting better but this may be a tough classification problem. Going to use a NLP approach based on the specific words, instead of looking at the number of words."
   ]
  },
  {
   "cell_type": "markdown",
   "metadata": {},
   "source": [
    "### NLP (Natural Language Processing)\n",
    "\n",
    "Now we'll convert each message, represented as a list of tokens (lemmas) above, into a vector that machine learning models can understand.\n",
    "\n",
    "We'll do that in three steps using the bag-of-words model:\n",
    "\n",
    "Count how many times does a word occur in each message (known as term frequency)\n",
    "\n",
    "Weigh the counts, so that frequent tokens get lower weight (inverse document frequency)\n",
    "\n",
    "Normalize the vectors to unit length, to abstract from the original text length (L2 norm)\n",
    "\n",
    "Each vector will have as many dimensions as there are unique words in the whole dataset. I am going to use SciKit Learn's CountVectorizer. This model will convert a collection of text documents to a matrix of token counts.\n",
    "\n",
    "So basically this is like a 2-Dimensional matrix. Where the 1-dimension is the entire vocabulary (1 row per word) and the other dimension are the actual documents, in this case a column per text message."
   ]
  },
  {
   "cell_type": "code",
   "execution_count": 21,
   "metadata": {},
   "outputs": [
    {
     "name": "stdout",
     "output_type": "stream",
     "text": [
      "4497\n"
     ]
    }
   ],
   "source": [
    "# Might take awhile...\n",
    "bow_transformer = CountVectorizer(analyzer=text_process).fit(messages['FinalFixedText'])\n",
    "\n",
    "# Print total number of vocab words\n",
    "print(len(bow_transformer.vocabulary_))"
   ]
  },
  {
   "cell_type": "code",
   "execution_count": 22,
   "metadata": {},
   "outputs": [
    {
     "name": "stdout",
     "output_type": "stream",
     "text": [
      "There are four or five people sitting around a table, one person standing upby a window, nice view out the window but then it got kind of foggy, there is a lake or something with fog on it. And a dog sitting on the window sill or whatever it is and they are having a conversation at the table.\n"
     ]
    }
   ],
   "source": [
    "message100 = messages['FinalFixedText'][100]\n",
    "print(message100)"
   ]
  },
  {
   "cell_type": "markdown",
   "metadata": {},
   "source": [
    "Now let's see its vector representation:"
   ]
  },
  {
   "cell_type": "code",
   "execution_count": 23,
   "metadata": {},
   "outputs": [
    {
     "name": "stdout",
     "output_type": "stream",
     "text": [
      "  (0, 620)\t1\n",
      "  (0, 1239)\t1\n",
      "  (0, 1510)\t1\n",
      "  (0, 1836)\t1\n",
      "  (0, 1868)\t1\n",
      "  (0, 1869)\t1\n",
      "  (0, 1904)\t1\n",
      "  (0, 2022)\t1\n",
      "  (0, 2418)\t1\n",
      "  (0, 2455)\t1\n",
      "  (0, 2824)\t1\n",
      "  (0, 2928)\t1\n",
      "  (0, 3060)\t1\n",
      "  (0, 3070)\t1\n",
      "  (0, 3665)\t1\n",
      "  (0, 3691)\t2\n",
      "  (0, 3767)\t1\n",
      "  (0, 3833)\t1\n",
      "  (0, 3986)\t2\n",
      "  (0, 4252)\t1\n",
      "  (0, 4287)\t1\n",
      "  (0, 4392)\t1\n",
      "  (0, 4419)\t3\n",
      "(1, 4497)\n"
     ]
    }
   ],
   "source": [
    "bow100 = bow_transformer.transform([message100])\n",
    "print(bow100)\n",
    "print(bow100.shape)"
   ]
  },
  {
   "cell_type": "markdown",
   "metadata": {},
   "source": [
    "This means that there are 23 unique words in message number 4 (after removing common stop words). Two of them appear twice and one three times, the rest only once. Let's go ahead and check and confirm which ones appear twice and three times"
   ]
  },
  {
   "cell_type": "code",
   "execution_count": 25,
   "metadata": {},
   "outputs": [
    {
     "name": "stdout",
     "output_type": "stream",
     "text": [
      "sitting\n",
      "table\n",
      "window\n"
     ]
    }
   ],
   "source": [
    "print(bow_transformer.get_feature_names()[3691])\n",
    "print(bow_transformer.get_feature_names()[3986])\n",
    "print(bow_transformer.get_feature_names()[4419])"
   ]
  },
  {
   "cell_type": "markdown",
   "metadata": {},
   "source": [
    "Now I'll check out how the bag-of-words counts for the entire core of texts is a large, sparse matrix:"
   ]
  },
  {
   "cell_type": "code",
   "execution_count": 26,
   "metadata": {},
   "outputs": [],
   "source": [
    "messages_bow = bow_transformer.transform(messages['FinalFixedText'])"
   ]
  },
  {
   "cell_type": "code",
   "execution_count": 27,
   "metadata": {},
   "outputs": [
    {
     "name": "stdout",
     "output_type": "stream",
     "text": [
      "Shape of Sparse Matrix:  (1103, 4497)\n",
      "Amount of Non-Zero occurences:  28729\n"
     ]
    }
   ],
   "source": [
    "print('Shape of Sparse Matrix: ', messages_bow.shape)\n",
    "print('Amount of Non-Zero occurences: ', messages_bow.nnz)"
   ]
  },
  {
   "cell_type": "markdown",
   "metadata": {},
   "source": [
    "### Analysis with TF-IDF\n",
    "\n",
    "TF-IDF stands for term frequency-inverse document frequency, and the tf-idf weight is a weight often used in information retrieval and text mining. This weight is a statistical measure used to evaluate how important a word is to a document in a collection or corpus. The importance increases proportionally to the number of times a word appears in the document but is offset by the frequency of the word in the corpus. \n",
    "\n",
    "Typically, the tf-idf weight is composed by two terms: the first computes the normalized Term Frequency (TF), aka. the number of times a word appears in a document, divided by the total number of words in that document; the second term is the Inverse Document Frequency (IDF), computed as the logarithm of the number of the documents in the corpus divided by the number of documents where the specific term appears."
   ]
  },
  {
   "cell_type": "code",
   "execution_count": 28,
   "metadata": {},
   "outputs": [
    {
     "name": "stdout",
     "output_type": "stream",
     "text": [
      "  (0, 4419)\t0.49386910305125375\n",
      "  (0, 4392)\t0.1432265050829912\n",
      "  (0, 4287)\t0.21032086344574416\n",
      "  (0, 4252)\t0.259511710085366\n",
      "  (0, 3986)\t0.2920219359425074\n",
      "  (0, 3833)\t0.1432265050829912\n",
      "  (0, 3767)\t0.0881852968496156\n",
      "  (0, 3691)\t0.26981820374027765\n",
      "  (0, 3665)\t0.22699832899326014\n",
      "  (0, 3070)\t0.12906297738848663\n",
      "  (0, 3060)\t0.09906194222312992\n",
      "  (0, 2928)\t0.08243272100017981\n",
      "  (0, 2824)\t0.14256323913157706\n",
      "  (0, 2455)\t0.20614148610265098\n",
      "  (0, 2418)\t0.10228995707751955\n",
      "  (0, 2022)\t0.12774045057388259\n",
      "  (0, 1904)\t0.16342008202218622\n",
      "  (0, 1869)\t0.24512430975391397\n",
      "  (0, 1868)\t0.259511710085366\n",
      "  (0, 1836)\t0.20614148610265098\n",
      "  (0, 1510)\t0.17442552497904293\n",
      "  (0, 1239)\t0.1622565779417663\n",
      "  (0, 620)\t0.09925531433794635\n"
     ]
    }
   ],
   "source": [
    "tfidf_transformer = TfidfTransformer().fit(messages_bow)\n",
    "tfidf4 = tfidf_transformer.transform(bow100)\n",
    "print(tfidf4)"
   ]
  },
  {
   "cell_type": "markdown",
   "metadata": {},
   "source": [
    "I am going to check what is the IDF (inverse document frequency) of different words"
   ]
  },
  {
   "cell_type": "code",
   "execution_count": 29,
   "metadata": {},
   "outputs": [
    {
     "name": "stdout",
     "output_type": "stream",
     "text": [
      "6.39725731440294\n",
      "2.683685247698633\n",
      "4.1148749287264135\n",
      "2.853403632339262\n",
      "5.298645025734831\n",
      "6.908082938168931\n",
      "3.7162357856886494\n",
      "5.298645025734831\n",
      "4.369109067110655\n",
      "3.787187521660934\n"
     ]
    }
   ],
   "source": [
    "print(tfidf_transformer.idf_[bow_transformer.vocabulary_['penguin']])\n",
    "print(tfidf_transformer.idf_[bow_transformer.vocabulary_['think']])\n",
    "print(tfidf_transformer.idf_[bow_transformer.vocabulary_['table']])\n",
    "print(tfidf_transformer.idf_[bow_transformer.vocabulary_['two']])\n",
    "print(tfidf_transformer.idf_[bow_transformer.vocabulary_['Shrek']])\n",
    "print(tfidf_transformer.idf_[bow_transformer.vocabulary_['Homer']])\n",
    "print(tfidf_transformer.idf_[bow_transformer.vocabulary_['sure']])\n",
    "print(tfidf_transformer.idf_[bow_transformer.vocabulary_['happy']])\n",
    "print(tfidf_transformer.idf_[bow_transformer.vocabulary_['red']])\n",
    "print(tfidf_transformer.idf_[bow_transformer.vocabulary_['water']])"
   ]
  },
  {
   "cell_type": "markdown",
   "metadata": {},
   "source": [
    "This makes sense. Complex and specific words (penguin, Shrek, Homer) have bigger IDF scores than other generic words (think, two, sure, water). Now I transform the entire bag-of-words corpus into TF-IDF corpus at once"
   ]
  },
  {
   "cell_type": "code",
   "execution_count": 88,
   "metadata": {},
   "outputs": [
    {
     "name": "stdout",
     "output_type": "stream",
     "text": [
      "('your', 0.13894439057792315) ('younger', 0.14108302539412865)\n",
      "('your', 0.13894439057792315) ('younger', 0.14108302539412865)\n",
      "('your', 0.13894439057792315) ('younger', 0.14108302539412865)\n",
      "('your', 0.13894439057792315) ('younger', 0.14108302539412865)\n"
     ]
    }
   ],
   "source": [
    "tfidf = TfidfVectorizer(min_df=3)\n",
    "tfidf.fit(list(messages['FinalFixedText']))\n",
    "feature_names = tfidf.get_feature_names()\n",
    "\n",
    "def get_ifidf_for_words(text):\n",
    "    tfidf_matrix= tfidf.transform([text]).todense()\n",
    "    feature_index = tfidf_matrix[0,:].nonzero()[1]\n",
    "    tfidf_scores = zip([feature_names[i] for i in feature_index], [tfidf_matrix[0, x] for x in feature_index])\n",
    "    return dict(tfidf_scores)\n",
    "finaldict = {}\n",
    "for i in messages['FinalFixedText']:\n",
    "    finaldict.update(get_ifidf_for_words(i))\n",
    "\n",
    "finaldict =list(finaldict.items())\n",
    "finaldict.sort(reverse=True)\n",
    "finaldict.\n",
    "    \n",
    "#tf = TfidfVectorizer(input='content', analyzer='word', ngram_range=(1,6),\n",
    "#                     min_df = 0, stop_words = 'english', sublinear_tf=True)\n",
    "#tfidf_matrix =  tf.fit_transform(messages['FinalFixedText'])\n",
    "#feature_names = tf.get_feature_names()\n",
    "#doc = 0\n",
    "#feature_index = tfidf_matrix[doc,:].nonzero()[1]\n",
    "#tfidf_scores = zip(feature_index, [tfidf_matrix[doc, x] for x in feature_index])\n",
    "#for w, s in [(feature_names[i], s) for (i, s) in tfidf_scores]:\n",
    "#  print (w, s)\n",
    "\n",
    "#from scipy.sparse.csr import csr_matrix #need this if you want to save tfidf_matrix\n",
    "\n",
    "#tf = TfidfVectorizer(input='filename', analyzer='word', ngram_range=(1,6),\n",
    "#                     min_df = 0, stop_words = 'english', sublinear_tf=True)\n",
    "#tfidf_matrix =  tf.fit_transform(messages['FinalFixedText'])\n",
    "#feature_names = tf.get_feature_names()\n",
    "#doc = 0\n",
    "#feature_index = tfidf_matrix[doc,:].nonzero()[1]\n",
    "#tfidf_scores = zip(feature_index, [tfidf_matrix[doc, x] for x in feature_index])\n",
    "#for w, s in [(feature_names[i], s) for (i, s) in tfidf_scores]:\n",
    " # print w, s"
   ]
  },
  {
   "cell_type": "markdown",
   "metadata": {},
   "source": [
    "With messages represented as vectors, I can finally train the classifier with any sort of classification algorithms. Naive Bayes, Support Vector, and Logistic regressions will be my three classifier methods to compare. Also using 30% data to validate the trained models"
   ]
  },
  {
   "cell_type": "code",
   "execution_count": null,
   "metadata": {},
   "outputs": [],
   "source": [
    "status_detect_model = MultinomialNB().fit(messages_tfidf, messages['cog_status'])"
   ]
  },
  {
   "cell_type": "code",
   "execution_count": null,
   "metadata": {},
   "outputs": [],
   "source": [
    "msg_train, msg_test, label_train, label_test = \\\n",
    "train_test_split(messages['FinalFixedText'], messages['cog_status'], test_size=0.3)\n",
    "pipeline = Pipeline([\n",
    "    ('bow', CountVectorizer(analyzer=text_process)),  # strings to token integer counts\n",
    "    ('tfidf', TfidfTransformer()),  # integer counts to weighted TF-IDF scores\n",
    "    ('classifier', OneVsRestClassifier(MultinomialNB(fit_prior=True, class_prior=None))),  # train on TF-IDF vectors w/ Naive Bayes classifier\n",
    "])\n",
    "pipeline.fit(msg_train,label_train)\n",
    "predictions = pipeline.predict(msg_test)\n",
    "print(classification_report(predictions,label_test))\n",
    "print(confusion_matrix(label_test,predictions))\n",
    "print('Test accuracy is {}'.format(accuracy_score(label_test, predictions)))"
   ]
  },
  {
   "cell_type": "code",
   "execution_count": null,
   "metadata": {},
   "outputs": [],
   "source": [
    "#all_predictions = status_detect_model.predict(messages_tfidf)\n",
    "#print(all_predictions)\n",
    "#print (classification_report(messages['cog_status'], all_predictions))"
   ]
  },
  {
   "cell_type": "code",
   "execution_count": null,
   "metadata": {},
   "outputs": [],
   "source": [
    "pipeline = Pipeline([\n",
    "    ('bow', CountVectorizer(analyzer=text_process)),  # strings to token integer counts\n",
    "    ('tfidf', TfidfTransformer()),  # integer counts to weighted TF-IDF scores\n",
    "    ('classifier', OneVsRestClassifier(LinearSVC(), n_jobs=1)),  # train on TF-IDF vectors w/ Support vector classifier\n",
    "])\n",
    "pipeline.fit(msg_train,label_train)\n",
    "predictions = pipeline.predict(msg_test)\n",
    "print(classification_report(predictions,label_test))\n",
    "print(confusion_matrix(label_test,predictions))\n",
    "print('Test accuracy is {}'.format(accuracy_score(label_test, predictions)))"
   ]
  },
  {
   "cell_type": "code",
   "execution_count": null,
   "metadata": {},
   "outputs": [],
   "source": [
    "pipeline = Pipeline([\n",
    "    ('bow', CountVectorizer(analyzer=text_process)),  # strings to token integer counts\n",
    "    ('tfidf', TfidfTransformer()),  # integer counts to weighted TF-IDF scores\n",
    "    ('clf', OneVsRestClassifier(LogisticRegression(solver='sag'), n_jobs=1)),\n",
    "            ])\n",
    "pipeline.fit(msg_train,label_train)\n",
    "predictions = pipeline.predict(msg_test)\n",
    "print(classification_report(predictions,label_test))\n",
    "print(confusion_matrix(label_test,predictions))\n",
    "print('Test accuracy is {}'.format(accuracy_score(label_test, predictions)))"
   ]
  },
  {
   "cell_type": "markdown",
   "metadata": {},
   "source": [
    "So 45% is the best accuracy that we get, with the support vector classiffier. This is definitely a hard classifying problem. Looking at the confusion matrix, it is clear that categories 2 and 3 (not cognitively impaired and MCI) are hard to classify. I am going to simplify the problem by only considering the first group (normal) and the last group (dementia). Having only two categories should make the classification problem easier."
   ]
  },
  {
   "cell_type": "code",
   "execution_count": 90,
   "metadata": {},
   "outputs": [
    {
     "name": "stderr",
     "output_type": "stream",
     "text": [
      "/Users/FranciscoCostela/opt/anaconda3/lib/python3.7/site-packages/ipykernel_launcher.py:2: UserWarning: Boolean Series key will be reindexed to match DataFrame index.\n",
      "  \n"
     ]
    },
    {
     "data": {
      "text/plain": [
       "(array([274.,   0.,   0.,   0.,   0.,   0.,   0.,   0.,   0., 160.]),\n",
       " array([0. , 0.3, 0.6, 0.9, 1.2, 1.5, 1.8, 2.1, 2.4, 2.7, 3. ]),\n",
       " <a list of 10 Patch objects>)"
      ]
     },
     "execution_count": 90,
     "metadata": {},
     "output_type": "execute_result"
    },
    {
     "data": {
      "image/png": "[encoded data removed]",
      "text/plain": [
       "<Figure size 432x288 with 1 Axes>"
      ]
     },
     "metadata": {
      "needs_background": "light"
     },
     "output_type": "display_data"
    }
   ],
   "source": [
    "messagesNormalDementia = messages[messages.cog_status != 1 ]\n",
    "messagesNormalDementia = messagesNormalDementia[messages.cog_status != 2 ]\n",
    "plt.hist(messagesNormalDementia.cog_status, rwidth=1) "
   ]
  },
  {
   "cell_type": "markdown",
   "metadata": {},
   "source": [
    "Going to apply the LinearSVC model to this new simplified dataset:"
   ]
  },
  {
   "cell_type": "code",
   "execution_count": 102,
   "metadata": {},
   "outputs": [],
   "source": [
    "msg_train, msg_test, label_train, label_test = \\\n",
    "train_test_split(messagesNormalDementia['FinalFixedText'], messagesNormalDementia['cog_status'], test_size=0.3)"
   ]
  },
  {
   "cell_type": "code",
   "execution_count": 103,
   "metadata": {},
   "outputs": [
    {
     "name": "stdout",
     "output_type": "stream",
     "text": [
      "              precision    recall  f1-score   support\n",
      "\n",
      "           0       0.99      0.84      0.91        93\n",
      "           3       0.71      0.97      0.82        38\n",
      "\n",
      "    accuracy                           0.88       131\n",
      "   macro avg       0.85      0.91      0.86       131\n",
      "weighted avg       0.91      0.88      0.88       131\n",
      "\n",
      "[[78  1]\n",
      " [15 37]]\n",
      "Test accuracy is 0.8778625954198473\n"
     ]
    }
   ],
   "source": [
    "pipeline = Pipeline([\n",
    "    ('bow', CountVectorizer(analyzer=text_process)),  # strings to token integer counts\n",
    "    ('tfidf', TfidfTransformer()),  # integer counts to weighted TF-IDF scores\n",
    "    ('classifier', OneVsRestClassifier(LinearSVC(), n_jobs=1)),  # train on TF-IDF vectors w/ Naive Bayes classifier\n",
    "])\n",
    "pipeline.fit(msg_train,label_train)\n",
    "predictions = pipeline.predict(msg_test)\n",
    "print(classification_report(predictions,label_test))\n",
    "print(confusion_matrix(label_test,predictions))\n",
    "print('Test accuracy is {}'.format(accuracy_score(label_test, predictions)))"
   ]
  },
  {
   "cell_type": "markdown",
   "metadata": {},
   "source": [
    "87% accuracy! This is working very well for only two categories. Going to apply random forest classifier with number of words as predictor. It should get a big accuracy as well..."
   ]
  },
  {
   "cell_type": "code",
   "execution_count": 119,
   "metadata": {},
   "outputs": [
    {
     "data": {
      "text/plain": [
       "count    434.000000\n",
       "mean       1.105991\n",
       "std        1.448998\n",
       "min        0.000000\n",
       "25%        0.000000\n",
       "50%        0.000000\n",
       "75%        3.000000\n",
       "max        3.000000\n",
       "Name: cog_status, dtype: float64"
      ]
     },
     "execution_count": 119,
     "metadata": {},
     "output_type": "execute_result"
    }
   ],
   "source": [
    "features = messagesNormalDementia[['NumberWords']]\n",
    "target = messagesNormalDementia['cog_status']    \n",
    "X_train, X_test, y_train, y_test = train_test_split(features, target, test_size=0.3)\n",
    "features.describe()\n",
    "target.describe()"
   ]
  },
  {
   "cell_type": "code",
   "execution_count": 121,
   "metadata": {},
   "outputs": [
    {
     "name": "stdout",
     "output_type": "stream",
     "text": [
      "              precision    recall  f1-score   support\n",
      "\n",
      "           0       0.94      0.78      0.85        82\n",
      "           3       0.71      0.92      0.80        49\n",
      "\n",
      "    accuracy                           0.83       131\n",
      "   macro avg       0.83      0.85      0.83       131\n",
      "weighted avg       0.86      0.83      0.83       131\n",
      "\n",
      "MAE: 0.5038167938931297\n",
      "MSE: 1.5114503816793894\n",
      "RMSE: 1.2294105830353785\n",
      "[[64 18]\n",
      " [ 4 45]]\n",
      "Test accuracy is 0.8320610687022901\n"
     ]
    }
   ],
   "source": [
    "rfc = RandomForestClassifier(n_estimators=200)\n",
    "rfc.fit(X_train,y_train)\n",
    "rfc_preds = rfc.predict(X_test)\n",
    "print(classification_report(y_test,rfc_preds))\n",
    "print('MAE:', metrics.mean_absolute_error(y_test, rfc_preds))\n",
    "print('MSE:', metrics.mean_squared_error(y_test, rfc_preds))\n",
    "print('RMSE:', np.sqrt(metrics.mean_squared_error(y_test,rfc_preds)))\n",
    "print(confusion_matrix(y_test,rfc_preds))\n",
    "print('Test accuracy is {}'.format(accuracy_score(y_test, rfc_preds)))"
   ]
  },
  {
   "cell_type": "markdown",
   "metadata": {},
   "source": [
    "Very promising as well. So both methods, using the number of words as predictor or using a NLP approach by examining the whole vocabulary, returns a prediction accuracy bigger than 83% when there are only 2 categories."
   ]
  }
 ],
 "metadata": {
  "kernelspec": {
   "display_name": "Python 3",
   "language": "python",
   "name": "python3"
  },
  "language_info": {
   "codemirror_mode": {
    "name": "ipython",
    "version": 3
   },
   "file_extension": ".py",
   "mimetype": "text/x-python",
   "name": "python",
   "nbconvert_exporter": "python",
   "pygments_lexer": "ipython3",
   "version": "3.7.6"
  }
 },
 "nbformat": 4,
 "nbformat_minor": 4
}
